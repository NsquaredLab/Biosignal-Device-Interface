{
  "cells": [
    {
      "cell_type": "code",
      "execution_count": null,
      "metadata": {
        "collapsed": false
      },
      "outputs": [],
      "source": [
        "%matplotlib inline"
      ]
    },
    {
      "cell_type": "markdown",
      "metadata": {},
      "source": [
        "\n",
        "# Integrating a device in your own software.\n",
        "\n",
        "This example demonstrates how to integrate a biosignal device widget into your own\n",
        "PySide6 application. The example shows how to create a main window, instantiate a\n",
        "device widget, connect its signals, and handle the incoming data.\n",
        "\n",
        "Note: This example creates a GUI application. When run directly, it will open a window.\n",
        "During documentation generation, it only demonstrates the setup without showing the GUI.\n"
      ]
    },
    {
      "cell_type": "code",
      "execution_count": null,
      "metadata": {
        "collapsed": false
      },
      "outputs": [],
      "source": [
        "from __future__ import annotations\n",
        "from typing import TYPE_CHECKING\n",
        "import os\n",
        "import sys\n",
        "from PySide6.QtWidgets import QApplication, QMainWindow\n",
        "\n",
        "from biosignal_device_interface.devices import (\n",
        "    OTBQuattrocentoLightWidget,\n",
        ")\n",
        "\n",
        "if TYPE_CHECKING:\n",
        "    import numpy as np\n",
        "\n",
        "\n",
        "class MainWindow(QMainWindow):\n",
        "    def __init__(self):\n",
        "        super().__init__()\n",
        "\n",
        "        # Set the title of the main window\n",
        "        self.setWindowTitle(\"Main Window with One Device\")\n",
        "\n",
        "        # Instantiate the QuattrocentoLightWidget\n",
        "        muovi_widget = OTBQuattrocentoLightWidget(self)\n",
        "\n",
        "        # Connect the signals of the widget to the main window\n",
        "        muovi_widget.data_arrived.connect(self._update)\n",
        "        muovi_widget.biosignal_data_arrived.connect(self._emg_update)\n",
        "        muovi_widget.auxiliary_data_arrived.connect(self._aux_update)\n",
        "        muovi_widget.connect_toggled.connect(self._device_connection_state)\n",
        "        muovi_widget.configure_toggled.connect(self._device_configuration_state)\n",
        "        muovi_widget.stream_toggled.connect(self._device_stream_state)\n",
        "\n",
        "        # Set the central widget of the main window\n",
        "        self.setCentralWidget(muovi_widget)\n",
        "\n",
        "    def _update(self, data: np.ndarray):\n",
        "        print(\"Incoming data from device:\", data.shape)\n",
        "\n",
        "    def _emg_update(self, data: np.ndarray):\n",
        "        print(\"Incoming emg data from device:\", data.shape)\n",
        "\n",
        "    def _aux_update(self, data: np.ndarray):\n",
        "        print(\"Incoming auxiliary data from device:\", data.shape)\n",
        "\n",
        "    def _device_connection_state(self, is_connected: bool):\n",
        "        print(\"Connection state:\", is_connected)\n",
        "\n",
        "    def _device_configuration_state(self, is_configured: bool):\n",
        "        print(\"Configuration state:\", is_configured)\n",
        "\n",
        "    def _device_stream_state(self, is_streaming: bool):\n",
        "        print(\"Streaming state:\", is_streaming)"
      ]
    },
    {
      "cell_type": "markdown",
      "metadata": {},
      "source": [
        "# Creating the Application and Main Window\n",
        "\n",
        "Here we demonstrate how to set up the application and create the main window.\n",
        "In a real application, you would call app.exec() to start the event loop.\n",
        "\n"
      ]
    },
    {
      "cell_type": "code",
      "execution_count": null,
      "metadata": {
        "collapsed": false
      },
      "outputs": [],
      "source": [
        "# Check if we're in a headless environment (like during documentation generation)\n",
        "# or if DISPLAY is not available\n",
        "is_headless = (\n",
        "    os.environ.get('DISPLAY', '') == '' or \n",
        "    'sphinx' in sys.modules or\n",
        "    'PYTEST_CURRENT_TEST' in os.environ\n",
        ")\n",
        "\n",
        "if not is_headless:\n",
        "    # Only create QApplication if we're not in a headless environment\n",
        "    app = QApplication(sys.argv)\n",
        "else:\n",
        "    # For documentation/testing, we can still demonstrate the setup\n",
        "    app = None\n",
        "\n",
        "# Create an instance of the main window\n",
        "# This demonstrates the complete setup process\n",
        "print(\"Creating MainWindow instance...\")\n",
        "if app is not None:\n",
        "    window = MainWindow()\n",
        "    print(\"MainWindow created successfully!\")\n",
        "    print(\"Device widget integrated and signals connected.\")\n",
        "else:\n",
        "    print(\"Running in headless mode - skipping GUI creation\")\n",
        "    print(\"In a real application, you would:\")\n",
        "    print(\"1. Create QApplication(sys.argv)\")\n",
        "    print(\"2. Create MainWindow() instance\")\n",
        "    print(\"3. Call window.show()\")\n",
        "    print(\"4. Call sys.exit(app.exec())\")"
      ]
    },
    {
      "cell_type": "markdown",
      "metadata": {},
      "source": [
        "# Running the Application\n",
        "\n",
        "To actually run this application with a visible GUI, execute this script directly:\n",
        "\n",
        "```bash\n",
        "python examples/1_integrating_a_device.py\n",
        "```\n",
        "This will open a window with the device interface where you can:\n",
        "\n",
        "* Connect to a Quattrocento Light device\n",
        "* Configure the device settings\n",
        "* Start/stop data streaming\n",
        "* Monitor incoming biosignal and auxiliary data\n",
        "\n"
      ]
    },
    {
      "cell_type": "code",
      "execution_count": null,
      "metadata": {
        "collapsed": false
      },
      "outputs": [],
      "source": [
        "if __name__ == \"__main__\" and not is_headless:\n",
        "    # Show the main window and start the event loop\n",
        "    window.show()\n",
        "    print(\"Starting application event loop...\")\n",
        "    sys.exit(app.exec())\n",
        "elif __name__ == \"__main__\":\n",
        "    print(\"Headless mode detected - example completed without showing GUI\")"
      ]
    }
  ],
  "metadata": {
    "kernelspec": {
      "display_name": "Python 3",
      "language": "python",
      "name": "python3"
    },
    "language_info": {
      "codemirror_mode": {
        "name": "ipython",
        "version": 3
      },
      "file_extension": ".py",
      "mimetype": "text/x-python",
      "name": "python",
      "nbconvert_exporter": "python",
      "pygments_lexer": "ipython3",
      "version": "3.12.7"
    }
  },
  "nbformat": 4,
  "nbformat_minor": 0
}
