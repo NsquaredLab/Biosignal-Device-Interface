{
  "cells": [
    {
      "cell_type": "markdown",
      "metadata": {},
      "source": [
        "\n# Integrating a device in your own software.\n\nThis example...\n"
      ]
    },
    {
      "cell_type": "code",
      "execution_count": null,
      "metadata": {
        "collapsed": false
      },
      "outputs": [],
      "source": [
        "from __future__ import annotations\nfrom typing import TYPE_CHECKING\nfrom PySide6.QtWidgets import QApplication, QMainWindow\nimport sys\n\nfrom biosignal_device_interface.gui.device_template_widgets import (\n    QuattrocentoLightWidget,\n)\n\nif TYPE_CHECKING:\n    import numpy as np\n\n\nclass MainWindow(QMainWindow):\n    def __init__(self):\n        super().__init__()\n\n        # Set the title of the main window\n        self.setWindowTitle(\"Main Window with One Device\")\n\n        # Instantiate the QuattrocentoLightWidget\n        muovi_widget = QuattrocentoLightWidget(self)\n\n        # Connect the signals of the widget to the main window\n        muovi_widget.data_arrived.connect(self._update)\n        muovi_widget.biosignal_data_arrived.connect(self._emg_update)\n        muovi_widget.auxiliary_data_arrived.connect(self._aux_update)\n        muovi_widget.connect_toggled.connect(self._device_connection_state)\n        muovi_widget.configure_toggled.connect(self._device_configuration_state)\n        muovi_widget.stream_toggled.connect(self._device_stream_state)\n\n        # Set the central widget of the main window\n        self.setCentralWidget(muovi_widget)\n\n    def _update(self, data: np.ndarray):\n        print(\"Incoming data frome device:\", data.shape)\n\n    def _emg_update(self, data: np.ndarray):\n        print(\"Incoming emg data from device:\", data.shape)\n\n    def _aux_update(self, data: np.ndarray):\n        print(\"Incoming auxiliary data from device:\", data.shape)\n\n    def _device_connection_state(self, is_connected: bool):\n        print(\"Connection state:\", is_connected)\n\n    def _device_configuration_state(self, is_configured: bool):\n        print(\"Configuration state:\", is_configured)\n\n    def _device_stream_state(self, is_streaming: bool):\n        print(\"Streaming state:\", is_streaming)\n\n\nif __name__ == \"__main__\":\n    # Create the application object\n    app = QApplication(sys.argv)\n\n    # Create an instance of the main window\n    window = MainWindow()\n\n    # Show the main window\n    window.show()\n\n    # Execute the application\n    sys.exit(app.exec())"
      ]
    }
  ],
  "metadata": {
    "kernelspec": {
      "display_name": "Python 3",
      "language": "python",
      "name": "python3"
    },
    "language_info": {
      "codemirror_mode": {
        "name": "ipython",
        "version": 3
      },
      "file_extension": ".py",
      "mimetype": "text/x-python",
      "name": "python",
      "nbconvert_exporter": "python",
      "pygments_lexer": "ipython3",
      "version": "3.11.9"
    }
  },
  "nbformat": 4,
  "nbformat_minor": 0
}