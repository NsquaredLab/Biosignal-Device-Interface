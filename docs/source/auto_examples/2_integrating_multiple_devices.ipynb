{
  "cells": [
    {
      "cell_type": "code",
      "execution_count": null,
      "metadata": {
        "collapsed": false
      },
      "outputs": [],
      "source": [
        "%matplotlib inline"
      ]
    },
    {
      "cell_type": "markdown",
      "metadata": {},
      "source": [
        "\n# Integrating all available device in your own software.\n\nThis example demonstrates how to integrate all available biosignal device widgets \ninto your own PySide6 application. The example shows how to create a main window, \ninstantiate the AllDevicesWidget, connect its signals, and handle the incoming data.\n\nNote: This example creates a GUI application. When run directly, it will open a window.\nDuring documentation generation, it only demonstrates the setup without showing the GUI.\n"
      ]
    },
    {
      "cell_type": "code",
      "execution_count": null,
      "metadata": {
        "collapsed": false
      },
      "outputs": [],
      "source": [
        "from __future__ import annotations\nfrom typing import TYPE_CHECKING\nimport os\nimport sys\nfrom PySide6.QtWidgets import QApplication, QMainWindow\n\nfrom biosignal_device_interface.devices import (\n    AllDevicesWidget,\n)\n\nif TYPE_CHECKING:\n    import numpy as np\n\n\nclass MainWindow(QMainWindow):\n    def __init__(self):\n        super().__init__()\n\n        # Set the title of the main window\n        self.setWindowTitle(\"Main Window with All Devices\")\n\n        # Instantiate the AllDevicesWidget\n        all_devices_widget = AllDevicesWidget(self)\n\n        # Connect the signals of the widget to the main window\n        all_devices_widget.data_arrived.connect(self._update)\n        all_devices_widget.biosignal_data_arrived.connect(self._emg_update)\n        all_devices_widget.auxiliary_data_arrived.connect(self._aux_update)\n        all_devices_widget.connect_toggled.connect(self._device_connection_state)\n        all_devices_widget.configure_toggled.connect(self._device_configuration_state)\n        all_devices_widget.stream_toggled.connect(self._device_stream_state)\n\n        # Set the central widget of the main window\n        self.setCentralWidget(all_devices_widget)\n\n    def _update(self, data: np.ndarray):\n        print(\"Incoming data from device:\", data.shape)\n\n    def _emg_update(self, data: np.ndarray):\n        print(\"Incoming emg data from device:\", data.shape)\n\n    def _aux_update(self, data: np.ndarray):\n        print(\"Incoming auxiliary data from device:\", data.shape)\n\n    def _device_connection_state(self, is_connected: bool):\n        print(\"Connection state:\", is_connected)\n\n    def _device_configuration_state(self, is_configured: bool):\n        print(\"Configuration state:\", is_configured)\n\n    def _device_stream_state(self, is_streaming: bool):\n        print(\"Streaming state:\", is_streaming)"
      ]
    },
    {
      "cell_type": "markdown",
      "metadata": {},
      "source": [
        "# Creating the Application and Main Window\n\nHere we demonstrate how to set up the application and create the main window.\nIn a real application, you would call app.exec() to start the event loop.\n\n"
      ]
    },
    {
      "cell_type": "code",
      "execution_count": null,
      "metadata": {
        "collapsed": false
      },
      "outputs": [],
      "source": [
        "# Check if we're in a headless environment (like during documentation generation)\n# or if DISPLAY is not available\nis_headless = (\n    os.environ.get('DISPLAY', '') == '' or \n    'sphinx' in sys.modules or\n    'PYTEST_CURRENT_TEST' in os.environ\n)\n\nif not is_headless:\n    # Only create QApplication if we're not in a headless environment\n    app = QApplication(sys.argv)\nelse:\n    # For documentation/testing, we can still demonstrate the setup\n    app = None\n\n# Create an instance of the main window\n# This demonstrates the complete setup process\nprint(\"Creating MainWindow instance...\")\nif app is not None:\n    window = MainWindow()\n    print(\"MainWindow created successfully!\")\n    print(\"All devices widget integrated and signals connected.\")\nelse:\n    print(\"Running in headless mode - skipping GUI creation\")\n    print(\"In a real application, you would:\")\n    print(\"1. Create QApplication(sys.argv)\")\n    print(\"2. Create MainWindow() instance\")\n    print(\"3. Call window.show()\")\n    print(\"4. Call sys.exit(app.exec())\")"
      ]
    },
    {
      "cell_type": "markdown",
      "metadata": {},
      "source": [
        "# Running the Application\n\nTo actually run this application with a visible GUI, execute this script directly:\n\n```bash\npython examples/2_integrating_multiple_devices.py\n```\nThis will open a window with interfaces for all available devices where you can:\n\n* Connect to multiple biosignal devices simultaneously\n* Configure each device's settings independently\n* Start/stop data streaming from all devices\n* Monitor incoming biosignal and auxiliary data from all connected devices\n\n"
      ]
    },
    {
      "cell_type": "code",
      "execution_count": null,
      "metadata": {
        "collapsed": false
      },
      "outputs": [],
      "source": [
        "if __name__ == \"__main__\" and not is_headless:\n    # Show the main window and start the event loop\n    window.show()\n    print(\"Starting application event loop...\")\n    sys.exit(app.exec())\nelif __name__ == \"__main__\":\n    print(\"Headless mode detected - example completed without showing GUI\")"
      ]
    }
  ],
  "metadata": {
    "kernelspec": {
      "display_name": "Python 3",
      "language": "python",
      "name": "python3"
    },
    "language_info": {
      "codemirror_mode": {
        "name": "ipython",
        "version": 3
      },
      "file_extension": ".py",
      "mimetype": "text/x-python",
      "name": "python",
      "nbconvert_exporter": "python",
      "pygments_lexer": "ipython3",
      "version": "3.12.7"
    }
  },
  "nbformat": 4,
  "nbformat_minor": 0
}