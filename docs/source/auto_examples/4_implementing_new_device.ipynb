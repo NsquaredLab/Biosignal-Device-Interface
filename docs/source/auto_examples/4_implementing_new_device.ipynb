{
  "cells": [
    {
      "cell_type": "markdown",
      "metadata": {},
      "source": [
        "\n# Integrating a device in your own software.\n\nThis example...\n"
      ]
    },
    {
      "cell_type": "markdown",
      "metadata": {},
      "source": [
        "%% Step 1.1: Add device type to the DeviceType Enum in biosignal_device_interface.constants.devices.base_device_constants.py.\n\n"
      ]
    },
    {
      "cell_type": "code",
      "execution_count": null,
      "metadata": {
        "collapsed": false
      },
      "outputs": [],
      "source": [
        "from aenum import Enum, auto\n\n\nclass DeviceType(Enum):\n    \"\"\"\n    Enum class for the different available devices.\n    Add new devices here.\n    \"\"\"\n\n    _init_ = \"value __doc__\"\n    OTB_QUATTROCENTO_LIGHT = auto(), \"OT Bioelettronica Quattrocento Light\"\n    OTB_MUOVI = auto(), \"OT Bioelettronica Muovi\"\n    OTB_MUOVI_PLUS = auto(), \"OT Bioelettronica Muovi Plus\"\n    # Add new device here\n    MANU_MYNAMEDEVICE = auto(), \"Manufacturer MyNameDevice\""
      ]
    },
    {
      "cell_type": "markdown",
      "metadata": {},
      "source": [
        "The file name should be the name of the manufacturer and the device, e.g., manu_mydevicename.py.\nThe file should contain the device class that inherits from the BaseDevice class.\n\n"
      ]
    },
    {
      "cell_type": "code",
      "execution_count": null,
      "metadata": {
        "collapsed": false
      },
      "outputs": [],
      "source": [
        "from __future__ import annotations\nfrom typing import TYPE_CHECKING, Union, Dict\nfrom biosignal_device_interface.devices.core.base_device import BaseDevice\nfrom biosignal_device_interface.constants.devices.core.base_device_constants import (\n    DeviceType,\n)\n\nif TYPE_CHECKING:\n    from PySide6.QtWidgets import QMainWindow, QWidget\n    from PySide6.QtNetwork import QTcpServer, QTcpSocket, QUdpSocket\n    from PySide6.QtSerialPort import QSerialPort\n    from aenum import Enum\n\n\nclass MANUMyNameDevice(BaseDevice):\n    def __init__(self, parent: Union[QMainWindow, QWidget] = None) -> None:\n        super().__init__(parent)\n        self._device_type: DeviceType = DeviceType.MANU_MYNAMEDEVICE\n\n        # Device Information\n        # TODO: Add fixed device information here\n\n        # Connection Parameters -> Add parameters that are needed to connect to the device.\n        # self._interface is the variable that either server sockets or client socket or a serial connection.\n        # If self._interface serves as a server socket, a self._client_socket variable should be added.\n\n        self._interface: QTcpServer | QTcpSocket | QUdpSocket | QSerialPort | None = (\n            None\n        )\n        # Optional\n        self._client_socket: QTcpSocket | QUdpSocket | None = None\n\n        # Configuration parameters\n        # TODO: Add configuration parameters here\n        # Example:\n        self._sampling_frequency_mode: Enum | None = None\n\n\n# ..note:: Import your device class in the __init__.py file in the biosignal_device_interface/devices/ directory for more accessible imports."
      ]
    },
    {
      "cell_type": "markdown",
      "metadata": {},
      "source": [
        "Some methods need to call the super() method.\n\n"
      ]
    },
    {
      "cell_type": "code",
      "execution_count": null,
      "metadata": {
        "collapsed": false
      },
      "outputs": [],
      "source": [
        "class MANUMyNameDevice(BaseDevice):\n    def __init__(self, parent: Union[QMainWindow, QWidget] = None) -> None:\n        super().__init__(parent)\n        # See Step 1.2\n\n    def _connect_to_device(self) -> bool:\n        pass\n\n    def _make_request(self) -> bool:\n        pass\n\n    def _disconnect_from_device(self) -> bool:\n        super()._disconnect_from_device()\n\n    def configure_device(self, params: Dict[str, Union[Enum, Dict[str, Enum]]]) -> None:\n        super().configure_device(params)\n\n    def _start_streaming(self) -> None:\n        super()._start_streaming()\n\n    def _stop_streaming(self) -> None:\n        super()._stop_streaming()\n\n    def clear_socket(self) -> None:\n        pass\n\n    def _read_data(self) -> None:\n        pass\n\n    def _process_data(self, data: bytearray) -> None:\n        pass"
      ]
    },
    {
      "cell_type": "markdown",
      "metadata": {},
      "source": [
        "By inheriting from the BaseDevice class, the new device class has to emit the following Signals:\n\n- data_arrived: Signal = Signal(np.ndarray) -> Emitted when new data (all channels) is available. Typically emitted in _process_data.\n- biosignal_data_arrived: Signal = Signal(np.ndarray) -> Emitted when new biosignal data is available. Typically emitted in _process_data.\n- auxiliary_data_arrived: Signal = Signal(np.ndarray) -> Emitted when new auxiliary data is available. Typically emitted in _process_data.\n\n- connect_toggled: Signal = Signal(bool) -> Emitted when the connection state of the device changes.\n                                            Typically emitted in _make_request and _disconnect_from_device (_disconnect_from_device is already implemented).\n                                            Emit could also be happen in _read_data when response from device is validating connection.\n- configure_toggled: Signal = Signal(bool) -> Emitted when the configuration state of the device changes. Typically emitted in configure_device.\n- stream_toggled: Signal = Signal(bool) -> Emitted when the streaming state of the device changes. Typically emitted in _start_streaming and _stop_streaming.\n                                           Both are already implemented.\n\n%% Step 1.5: Implement the device configuration parameters as enums and use dictionaries to get correct values.\nRegarding the different configuration options, enums and dictionaries should be used to define the possible values.\nThese constants should be defined in biosignal_device_interface/constants/devices/manu_mydevicename_constants.py.\n\nExample: Quattrocento Light device configuration parameters\n\n"
      ]
    },
    {
      "cell_type": "code",
      "execution_count": null,
      "metadata": {
        "collapsed": false
      },
      "outputs": [],
      "source": [
        "class MyNameDeviceSamplingFrequency(Enum):\n    \"\"\"\n    Enum class for the sampling frequencies of the Quattrocento Light device.\n    \"\"\"\n\n    _init_ = \"value __doc__\"\n\n    LOW = auto(), \"512 Hz\"\n    MEDIUM = auto(), \"2048 Hz\"\n    HIGH = auto(), \"5120 Hz\"\n    ULTRA = auto(), \"10240 Hz\"\n\n\nMY_NAME_DEVICE_SAMPLING_FREQUENCY_DICT: dict[MyNameDeviceSamplingFrequency, int] = {\n    MyNameDeviceSamplingFrequency.LOW: 512,\n    MyNameDeviceSamplingFrequency.MEDIUM: 2048,\n    MyNameDeviceSamplingFrequency.HIGH: 5120,\n    MyNameDeviceSamplingFrequency.ULTRA: 10240,\n}\n\"\"\"\nDictionary to get sampling frequency for each mode.\n\"\"\"\n\n# How to use that in configure_device(self, params: Dict[str, Union[Enum, Dict[str, Enum]]]) -> None:\n# Example params (should be defined in your software or using the template_widgets):\n# .. note:: Even though the configuration parameter is initialized as a private variable with self._my_param, do not use the underscore in the dictionary key.\nparams = {\n    \"sampling_frequency_mode\": MyNameDeviceSamplingFrequency.LOW,\n}\n\n\nclass MANUMyNameDevice(BaseDevice):\n    def __init__(self, parent: Union[QMainWindow, QWidget] = None) -> None:\n        super().__init__(parent)\n        # See Step 1.2\n\n        # Configuration parameters\n        self._sampling_frequency_mode: Enum | None = None\n\n    def configure_device(self, params: Dict[str, Union[Enum, Dict[str, Enum]]]) -> None:\n        # Super call automatically sets the parameters to your device attributes.\n        super().configure_device(params)\n\n        # Get the actual value of your configuration mode from the dictionary\n        self._sampling_frequency = MY_NAME_DEVICE_SAMPLING_FREQUENCY_DICT[\n            self._sampling_frequency_mode\n        ]"
      ]
    },
    {
      "cell_type": "markdown",
      "metadata": {},
      "source": [
        "Typically such methods are needed to properly decode the data from the device.\n\n"
      ]
    },
    {
      "cell_type": "markdown",
      "metadata": {},
      "source": [
        "Preferably, design the GUI in Qt Designer and compile it to a Python file afterwards.\nThe QT Designer file should be saved in the biosignal_device_interface/gui/ui/ directory.\nThe compiled .py file should be saved in the biosignal_device_interface/gui/ui_compiled/ directory.\n\n"
      ]
    },
    {
      "cell_type": "markdown",
      "metadata": {},
      "source": [
        "The device widget is the graphical representation of the device in the Biosignal-Device-Interface.\nThe device widget should inherit from the BaseDeviceWidget class.\nThe device widget file should be implemented in the biosignal_device_interface/gui/device_template_widgets/ directory.\nThe device widget file should be implemented with the name of the manufacturer and the device, e.g., manu_mydevicename_widget.\n\n"
      ]
    },
    {
      "cell_type": "markdown",
      "metadata": {},
      "source": [
        "Import the necessary libraries and classes.\n\n"
      ]
    },
    {
      "cell_type": "code",
      "execution_count": null,
      "metadata": {
        "collapsed": false
      },
      "outputs": [],
      "source": [
        "from __future__ import annotations\nfrom typing import TYPE_CHECKING\n\nfrom biosignal_device_interface.gui.device_template_widgets.core.base_device_widget import (\n    BaseDeviceWidget,\n)\n\n# TODO: Import the compiled UI file from the biosignal_device_interface/gui/ui_compiled/ directory.\nfrom biosignal_device_interface.gui.ui_compiled.manu_mydevicename_widget import (\n    Ui_MyDeviceNameForm,\n)\n\n# TODO: Import the device class from the biosignal_device_interface/devices/ directory.\nfrom biosignal_device_interface.devices import MANUMyNameDevice\n\n# Constants\n# TODO: Implement your device constants here\n\nif TYPE_CHECKING:\n    from PySide6.QtWidgets import (\n        QMainWindow,\n        QWidget,\n        QGroupBox,\n        QPushButton,\n        QComboBox,\n        QLabel,\n    )\n\n\n# The device widget should inherit from the BaseDeviceWidget class.\n# The device widget should implement the necessary methods to connect, configure, and stream the device.\nclass MANUMyNameDeviceWidget(BaseDeviceWidget):\n    def __init__(self, parent: QWidget | QMainWindow | None = None):\n        super().__init__(parent)\n        # Set the device to the device widget\n        self._set_device(MANUMyNameDevice(parent=self))\n\n    def _toggle_connection(self) -> None:\n        # TODO: Call self.device.toggle_connection() with the necessary connection parameters.\n        pass\n\n    def _connection_toggled(self, is_connected: bool) -> None:\n        # Implement the connection toggled method that is called when the connection state changes.\n        pass\n\n    def _toggle_configuration(self) -> None:\n        # TODO: Call self.device.configure_device(self._device_params) with the necessary configuration parameters.\n        # Get the configuration parameters from the UI.\n        # QComboBox recommended for multiple options.\n        pass\n\n    def _configuration_toggled(self, is_configured: bool) -> None:\n        # Implement the configuration toggled method that is called when the configuration state changes.\n        pass\n\n    def _toggle_streaming(self) -> None:\n        # TODO: Call self.device.toggle_streaming().\n        pass\n\n    def _streaming_toggled(self, is_streaming: bool) -> None:\n        # Implement the streaming toggled method\n        pass\n\n    def _initialize_device_params(self) -> None:\n        # Example: Set the default sampling frequency mode\n        self._device_params = {\n            \"sampling_frequency_mode\": MyNameDeviceSamplingFrequency.MEDIUM\n        }\n\n    def _initialize_ui(self) -> None:\n        # Instantiate your UI class and set it up\n        self.ui = Ui_MyDeviceNameForm()\n        self.ui.setupUi(self)\n\n        # TODO: Implement the necessary UI elements and link their signals here."
      ]
    }
  ],
  "metadata": {
    "kernelspec": {
      "display_name": "Python 3",
      "language": "python",
      "name": "python3"
    },
    "language_info": {
      "codemirror_mode": {
        "name": "ipython",
        "version": 3
      },
      "file_extension": ".py",
      "mimetype": "text/x-python",
      "name": "python",
      "nbconvert_exporter": "python",
      "pygments_lexer": "ipython3",
      "version": "3.11.9"
    }
  },
  "nbformat": 4,
  "nbformat_minor": 0
}