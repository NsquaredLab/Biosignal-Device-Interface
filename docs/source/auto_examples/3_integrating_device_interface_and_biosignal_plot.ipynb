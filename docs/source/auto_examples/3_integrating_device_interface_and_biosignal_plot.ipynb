{
  "cells": [
    {
      "cell_type": "code",
      "execution_count": null,
      "metadata": {
        "collapsed": false
      },
      "outputs": [],
      "source": [
        "%matplotlib inline"
      ]
    },
    {
      "cell_type": "markdown",
      "metadata": {},
      "source": [
        "\n# Integrating all devices and a biosignal plot in your own software.\n\nThis example demonstrates how to integrate all available biosignal device widgets \nalong with a real-time biosignal plot into your own PySide6 application. The example \nshows how to create a main window with a horizontal layout containing both the device \ninterface and a plot widget that displays incoming biosignal data in real-time.\n\nNote: This example creates a GUI application. When run directly, it will open a window.\nDuring documentation generation, it only demonstrates the setup without showing the GUI.\n"
      ]
    },
    {
      "cell_type": "code",
      "execution_count": null,
      "metadata": {
        "collapsed": false
      },
      "outputs": [],
      "source": [
        "from __future__ import annotations\nfrom typing import TYPE_CHECKING\nimport os\nimport sys\nfrom PySide6.QtWidgets import QApplication, QMainWindow, QWidget, QHBoxLayout\n\nfrom biosignal_device_interface.devices import AllDevicesWidget\n\nfrom biosignal_device_interface.gui.plot_widgets.biosignal_plot_widget import (\n    BiosignalPlotWidget,\n)\n\nif TYPE_CHECKING:\n    import numpy as np\n\n\nclass MainWindow(QMainWindow):\n    def __init__(self):\n        super().__init__()\n\n        # Set the title of the main window\n        self.setWindowTitle(\"Main Window with All Devices and Biosignal Plot\")\n\n        # Instantiate the central widget\n        self.central_widget = QWidget(self)\n\n        # Set the central widget of the main window\n        self.setCentralWidget(self.central_widget)\n\n        # Create a horizontal layout\n        self.horizontal_box_layout = QHBoxLayout(self.central_widget)\n\n        # Instantiate the AllDevicesWidget\n        self.all_devices_widget = AllDevicesWidget(self)\n\n        # Connect the signals of the widget to the main window\n        self.all_devices_widget.biosignal_data_arrived.connect(self._emg_update)\n        self.all_devices_widget.configure_toggled.connect(\n            self._device_configuration_state\n        )\n\n        # Instantiate Biosignal Plot\n        self.biosignal_plot = BiosignalPlotWidget(self)\n\n        self.horizontal_box_layout.addWidget(self.all_devices_widget)\n        self.horizontal_box_layout.addWidget(self.biosignal_plot)\n\n    def _emg_update(self, data: np.ndarray):\n        if self.biosignal_plot.is_configured:\n            self.biosignal_plot.update_plot(data)\n\n    def _device_configuration_state(self, is_configured: bool):\n        if not is_configured:\n            return\n\n        device_information = self.all_devices_widget.get_device_information()\n\n        biosignal_channels = device_information[\"number_of_biosignal_channels\"]\n        sampling_frequency = device_information[\"sampling_frequency\"]\n\n        self.biosignal_plot.configure(\n            lines=biosignal_channels,\n            sampling_frequency=sampling_frequency,\n            line_height=100,\n            display_time=10,\n        )"
      ]
    },
    {
      "cell_type": "markdown",
      "metadata": {},
      "source": [
        "# Creating the Application and Main Window\n\nHere we demonstrate how to set up the application and create the main window\nwith both device interface and biosignal plot widgets.\n\n"
      ]
    },
    {
      "cell_type": "code",
      "execution_count": null,
      "metadata": {
        "collapsed": false
      },
      "outputs": [],
      "source": [
        "# Check if we're in a headless environment (like during documentation generation)\n# or if DISPLAY is not available\nis_headless = (\n    os.environ.get('DISPLAY', '') == '' or \n    'sphinx' in sys.modules or\n    'PYTEST_CURRENT_TEST' in os.environ\n)\n\nif not is_headless:\n    # Only create QApplication if we're not in a headless environment\n    app = QApplication(sys.argv)\nelse:\n    # For documentation/testing, we can still demonstrate the setup\n    app = None\n\n# Create an instance of the main window\n# This demonstrates the complete setup process\nprint(\"Creating MainWindow instance...\")\nif app is not None:\n    window = MainWindow()\n    print(\"MainWindow created successfully!\")\n    print(\"Device interface and biosignal plot widgets integrated.\")\n    print(\"Real-time plotting configured and ready.\")\nelse:\n    print(\"Running in headless mode - skipping GUI creation\")\n    print(\"In a real application, you would:\")\n    print(\"1. Create QApplication(sys.argv)\")\n    print(\"2. Create MainWindow() instance\")\n    print(\"3. Call window.show()\")\n    print(\"4. Call sys.exit(app.exec())\")"
      ]
    },
    {
      "cell_type": "markdown",
      "metadata": {},
      "source": [
        "# Running the Application\n\nTo actually run this application with a visible GUI, execute this script directly:\n\n```bash\npython examples/3_integrating_device_interface_and_biosignal_plot.py\n```\nThis will open a window with:\n\n* **Left panel**: Device interfaces for all available biosignal devices\n* **Right panel**: Real-time biosignal plot that automatically updates\n\nYou can:\n\n* Connect to multiple biosignal devices\n* Configure device settings and plot parameters\n* Start data streaming to see real-time biosignal visualization\n* Monitor multiple channels simultaneously with automatic scaling\n\n"
      ]
    },
    {
      "cell_type": "code",
      "execution_count": null,
      "metadata": {
        "collapsed": false
      },
      "outputs": [],
      "source": [
        "if __name__ == \"__main__\" and not is_headless:\n    # Show the main window and start the event loop\n    window.show()\n    print(\"Starting application event loop...\")\n    sys.exit(app.exec())\nelif __name__ == \"__main__\":\n    print(\"Headless mode detected - example completed without showing GUI\")"
      ]
    }
  ],
  "metadata": {
    "kernelspec": {
      "display_name": "Python 3",
      "language": "python",
      "name": "python3"
    },
    "language_info": {
      "codemirror_mode": {
        "name": "ipython",
        "version": 3
      },
      "file_extension": ".py",
      "mimetype": "text/x-python",
      "name": "python",
      "nbconvert_exporter": "python",
      "pygments_lexer": "ipython3",
      "version": "3.12.7"
    }
  },
  "nbformat": 4,
  "nbformat_minor": 0
}