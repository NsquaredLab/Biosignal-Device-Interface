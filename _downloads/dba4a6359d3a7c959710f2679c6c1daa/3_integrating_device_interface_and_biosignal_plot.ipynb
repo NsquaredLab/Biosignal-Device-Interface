{
  "cells": [
    {
      "cell_type": "markdown",
      "metadata": {},
      "source": [
        "\n# Integrating all devices and a biosignal plot in your own software.\n\nThis example...\n"
      ]
    },
    {
      "cell_type": "code",
      "execution_count": null,
      "metadata": {
        "collapsed": false
      },
      "outputs": [],
      "source": [
        "from __future__ import annotations\nfrom typing import TYPE_CHECKING\nfrom PySide6.QtWidgets import QApplication, QMainWindow, QWidget, QHBoxLayout\nimport sys\n\nfrom biosignal_device_interface.devices import AllDevicesWidget\n\nfrom biosignal_device_interface.gui.plot_widgets.biosignal_plot_widget import (\n    BiosignalPlotWidget,\n)\n\nif TYPE_CHECKING:\n    import numpy as np\n\n\nclass MainWindow(QMainWindow):\n    def __init__(self):\n        super().__init__()\n\n        # Set the title of the main window\n        self.setWindowTitle(\"Main Window with All Devices and Biosignal Plot\")\n\n        # Instantiate the central widget\n        self.central_widget = QWidget(self)\n\n        # Set the central widget of the main window\n        self.setCentralWidget(self.central_widget)\n\n        # Create a horizontal layout\n        self.horizontal_box_layout = QHBoxLayout(self.central_widget)\n\n        # Instantiate the AllDevicesWidget\n        self.all_devices_widget = AllDevicesWidget(self)\n\n        # Connect the signals of the widget to the main window\n        self.all_devices_widget.biosignal_data_arrived.connect(self._emg_update)\n        self.all_devices_widget.configure_toggled.connect(\n            self._device_configuration_state\n        )\n\n        # Instantiate Biosignal Plot\n        self.biosignal_plot = BiosignalPlotWidget(self)\n\n        self.horizontal_box_layout.addWidget(self.all_devices_widget)\n        self.horizontal_box_layout.addWidget(self.biosignal_plot)\n\n    def _emg_update(self, data: np.ndarray):\n        if self.biosignal_plot.is_configured:\n            self.biosignal_plot.update_plot(data)\n\n    def _device_configuration_state(self, is_configured: bool):\n        if not is_configured:\n            return\n\n        device_information = self.all_devices_widget.get_device_information()\n\n        biosignal_channels = device_information[\"number_of_biosignal_channels\"]\n        sampling_frequency = device_information[\"sampling_frequency\"]\n\n        self.biosignal_plot.configure(\n            lines=biosignal_channels,\n            sampling_frequency=sampling_frequency,\n            line_height=200,\n            display_time=10,\n        )\n\n\nif __name__ == \"__main__\":\n    # Create the application object\n    app = QApplication(sys.argv)\n\n    # Create an instance of the main window\n    window = MainWindow()\n\n    # Show the main window\n    window.show()\n\n    # Execute the application\n    sys.exit(app.exec())"
      ]
    }
  ],
  "metadata": {
    "kernelspec": {
      "display_name": "Python 3",
      "language": "python",
      "name": "python3"
    },
    "language_info": {
      "codemirror_mode": {
        "name": "ipython",
        "version": 3
      },
      "file_extension": ".py",
      "mimetype": "text/x-python",
      "name": "python",
      "nbconvert_exporter": "python",
      "pygments_lexer": "ipython3",
      "version": "3.10.14"
    }
  },
  "nbformat": 4,
  "nbformat_minor": 0
}